{
 "cells": [
  {
   "cell_type": "code",
   "execution_count": 1,
   "metadata": {},
   "outputs": [],
   "source": [
    "#import libraries\n",
    "from bs4 import BeautifulSoup\n",
    "import requests\n",
    "import smtplib\n",
    "import time\n",
    "import datetime\n",
    "import csv\n",
    "import pandas as pd"
   ]
  },
  {
   "cell_type": "code",
   "execution_count": 2,
   "metadata": {},
   "outputs": [
    {
     "name": "stdout",
     "output_type": "stream",
     "text": [
      "\n",
      "            F.C. Barcelona Football VT\n",
      "           \n",
      "\n",
      "               ₹1,599.00\n",
      "              \n"
     ]
    }
   ],
   "source": [
    "#connecting to the website\n",
    "\n",
    "URL='https://www.amazon.in/F-C-Barcelona-UTTA4705_1-Football-VT/dp/B07VQN86Q1/ref=sr_1_2?dchild=1&keywords=barcelona+ball&qid=1629880310&sr=8-2'\n",
    "headers= {\"User-Agent\": \"Mozilla/5.0 (Windows NT 10.0; Win64; x64) AppleWebKit/537.36 (KHTML, like Gecko) Chrome/92.0.4515.159 Safari/537.36\",\"Accept-Encoding\":\"gzip, deflate\", \"Accept\":\"text/html,application/xhtml+xml,application/xml;q=0.9,*/*;q=0.8\", \"DNT\":\"1\",\"Connection\":\"close\", \"Upgrade-Insecure-Requests\":\"1\"}\n",
    "page= requests.get(URL,headers=headers)\n",
    "soup1=BeautifulSoup(page.content,\"html.parser\")\n",
    "soup2=BeautifulSoup(soup1.prettify(),\"html.parser\")\n",
    "title=soup2.find(id='productTitle').get_text()\n",
    "price=soup2.find(id='priceblock_ourprice').get_text()\n",
    "print(title)\n",
    "print(price)\n",
    "\n",
    "\n",
    "\n",
    "\n",
    "\n",
    "\n",
    "\n",
    "\n"
   ]
  },
  {
   "cell_type": "code",
   "execution_count": 3,
   "metadata": {},
   "outputs": [
    {
     "name": "stdout",
     "output_type": "stream",
     "text": [
      "F.C. Barcelona Football VT\n",
      "1599.0\n"
     ]
    }
   ],
   "source": [
    "price=price.strip()[1:]\n",
    "price=price.replace(',','')\n",
    "price=float(price)\n",
    "title=title.strip()\n",
    "print(title)\n",
    "print(price)"
   ]
  },
  {
   "cell_type": "code",
   "execution_count": 4,
   "metadata": {},
   "outputs": [],
   "source": [
    "today=datetime.date.today()"
   ]
  },
  {
   "cell_type": "code",
   "execution_count": 5,
   "metadata": {},
   "outputs": [],
   "source": [
    "header=['Title','Price','Date']\n",
    "data=[title,price,today]\n",
    "#Only for the first time\n",
    "with open('AmazonWebScraperDataset.csv', 'w', newline='', encoding='UTF8') as f:\n",
    "    writer=csv.writer(f)\n",
    "    writer.writerow(header)"
   ]
  },
  {
   "cell_type": "code",
   "execution_count": 6,
   "metadata": {},
   "outputs": [
    {
     "name": "stdout",
     "output_type": "stream",
     "text": [
      "Empty DataFrame\n",
      "Columns: [Title, Price, Date]\n",
      "Index: []\n"
     ]
    }
   ],
   "source": [
    "df=pd.read_csv(r'C:\\Users\\Lenovo\\AmazonWebScraperDataset.csv')\n",
    "print(df)"
   ]
  },
  {
   "cell_type": "code",
   "execution_count": 7,
   "metadata": {},
   "outputs": [],
   "source": [
    "def send_mail():\n",
    "    # SMTP_SSL Example\n",
    "    server_ssl = smtplib.SMTP_SSL(\"smtp.gmail.com\", 465)\n",
    "    server_ssl.ehlo() # optional, called by login()\n",
    "    server_ssl.login('gouravkumar192837@gmail.com', 'gourav1999/11/21')\n",
    "    subject = \"The Ball you want is below 1000 rupees! Now is your chance to buy!\"\n",
    "    body = \"Gourav, This is the moment we have been waiting for. Now is your chance to pick up the ball of your dreams. Don't mess it up! Link here: https://www.amazon.in/Dibaco-Sports-Light-Barcelona-Football/dp/B07SJD9JG8/ref=sr_1_6?crid=1GVN5NGGHS01I&dchild=1&keywords=barcelona+football&qid=1629865127&sprefix=barcelona%2Caps%2C404&sr=8-6\"   \n",
    "    msg = f\"Subject: {subject}\\n\\n{body}\"\n",
    "    # ssl server doesn't support or need tls, so don't call server_ssl.starttls() \n",
    "    server_ssl.sendmail('gouravkumar192837@gmail.com','gouravkumar192837@gmail.com' , msg)\n",
    "    #server_ssl.quit()\n",
    "    server_ssl.close()\n",
    "    print('successfully sent the mail')"
   ]
  },
  {
   "cell_type": "code",
   "execution_count": 8,
   "metadata": {},
   "outputs": [],
   "source": [
    "def check_price():\n",
    "    URL='https://www.amazon.in/F-C-Barcelona-UTTA4705_1-Football-VT/dp/B07VQN86Q1/ref=sr_1_2?dchild=1&keywords=barcelona+ball&qid=1629880310&sr=8-2'\n",
    "    headers= {\"User-Agent\": \"Mozilla/5.0 (Windows NT 10.0; Win64; x64) AppleWebKit/537.36 (KHTML, like Gecko) Chrome/92.0.4515.159 Safari/537.36\",\"Accept-Encoding\":\"gzip, deflate\", \"Accept\":\"text/html,application/xhtml+xml,application/xml;q=0.9,*/*;q=0.8\", \"DNT\":\"1\",\"Connection\":\"close\", \"Upgrade-Insecure-Requests\":\"1\"}\n",
    "    page= requests.get(URL,headers=headers)\n",
    "    soup1=BeautifulSoup(page.content,\"html.parser\")\n",
    "    soup2=BeautifulSoup(soup1.prettify(),\"html.parser\")\n",
    "    title=soup2.find(id='productTitle').get_text()\n",
    "    price=soup2.find(id='priceblock_ourprice').get_text()\n",
    "    price=price.strip()[1:]\n",
    "    price=price.replace(',','')\n",
    "    price=float(price)\n",
    "    title=title.strip()\n",
    "    today=datetime.date.today()\n",
    "    data=[title,price,today]\n",
    "    with open('AmazonWebScraperDataset.csv', 'a+', newline='', encoding='UTF8') as f:\n",
    "        writer=csv.writer(f)\n",
    "        writer.writerow(data)\n",
    "    if(price < 1000):\n",
    "        send_mail()\n",
    "        print(\"Mail sent succesfully\")"
   ]
  },
  {
   "cell_type": "code",
   "execution_count": null,
   "metadata": {},
   "outputs": [],
   "source": [
    "while(True):\n",
    "    check_price()\n",
    "    time.sleep(86400)"
   ]
  },
  {
   "cell_type": "code",
   "execution_count": null,
   "metadata": {},
   "outputs": [],
   "source": [
    "df=pd.read_csv(r'C:\\Users\\Lenovo\\AmazonWebScraperDataset.csv')\n",
    "print(df)"
   ]
  },
  {
   "cell_type": "markdown",
   "metadata": {},
   "source": [
    "**To send a mail to a customer notifying that the price of the ball has dropped below 1000 rupees**"
   ]
  }
 ],
 "metadata": {
  "kernelspec": {
   "display_name": "Python 3",
   "language": "python",
   "name": "python3"
  },
  "language_info": {
   "codemirror_mode": {
    "name": "ipython",
    "version": 3
   },
   "file_extension": ".py",
   "mimetype": "text/x-python",
   "name": "python",
   "nbconvert_exporter": "python",
   "pygments_lexer": "ipython3",
   "version": "3.8.5"
  }
 },
 "nbformat": 4,
 "nbformat_minor": 4
}
